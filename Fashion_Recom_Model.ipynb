{
 "cells": [
  {
   "cell_type": "code",
   "execution_count": 1,
   "id": "95a599c2-126e-4914-9269-6ec7be75fee5",
   "metadata": {},
   "outputs": [],
   "source": [
    "#Importing Libraries"
   ]
  },
  {
   "cell_type": "code",
   "execution_count": 1,
   "id": "1f21a459-a091-4ccb-8410-2f86b8b53626",
   "metadata": {},
   "outputs": [
    {
     "name": "stderr",
     "output_type": "stream",
     "text": [
      "C:\\Users\\Sai Siva Teja\\anaconda3\\lib\\site-packages\\scipy\\__init__.py:146: UserWarning: A NumPy version >=1.16.5 and <1.23.0 is required for this version of SciPy (detected version 1.26.4\n",
      "  warnings.warn(f\"A NumPy version >={np_minversion} and <{np_maxversion}\"\n"
     ]
    }
   ],
   "source": [
    "import numpy as np\n",
    "import pickle as pkl\n",
    "import tensorflow as tf\n",
    "from tensorflow.keras.applications.resnet50 import ResNet50,preprocess_input\n",
    "from tensorflow.keras.preprocessing import image\n",
    "from tensorflow.keras.layers import GlobalMaxPool2D\n",
    "\n",
    "from sklearn.neighbors import NearestNeighbors\n",
    "import os\n",
    "from numpy.linalg import norm"
   ]
  },
  {
   "cell_type": "code",
   "execution_count": 3,
   "id": "90cca902-6180-4afd-b84f-d10d43ba6b98",
   "metadata": {},
   "outputs": [],
   "source": [
    "#Extract Filenames from Folder"
   ]
  },
  {
   "cell_type": "code",
   "execution_count": 6,
   "id": "3d71d2d4-f947-4ff9-9537-ede9d690ad85",
   "metadata": {},
   "outputs": [],
   "source": [
    "filenames = []\n",
    "for file in os.listdir('dataset/images'):\n",
    "    filenames.append(os.path.join('dataset/images',file))\n",
    "    "
   ]
  },
  {
   "cell_type": "code",
   "execution_count": 7,
   "id": "bc62c11d-334a-45ba-a011-025a81e83074",
   "metadata": {},
   "outputs": [
    {
     "data": {
      "text/plain": [
       "44441"
      ]
     },
     "execution_count": 7,
     "metadata": {},
     "output_type": "execute_result"
    }
   ],
   "source": [
    "len(filenames)"
   ]
  },
  {
   "cell_type": "code",
   "execution_count": 6,
   "id": "890d6a07-36a6-46c7-824b-7951a7a2fc1d",
   "metadata": {},
   "outputs": [],
   "source": [
    "#Importing ResNet50 Model and Cofiguration"
   ]
  },
  {
   "cell_type": "code",
   "execution_count": 8,
   "id": "eee2743f-32b2-4154-8a29-66a320527fe7",
   "metadata": {},
   "outputs": [
    {
     "name": "stdout",
     "output_type": "stream",
     "text": [
      "Model: \"sequential_1\"\n",
      "_________________________________________________________________\n",
      " Layer (type)                Output Shape              Param #   \n",
      "=================================================================\n",
      " resnet50 (Functional)       (None, 7, 7, 2048)        23587712  \n",
      "                                                                 \n",
      " global_max_pooling2d_1 (Glo  (None, 2048)             0         \n",
      " balMaxPooling2D)                                                \n",
      "                                                                 \n",
      "=================================================================\n",
      "Total params: 23,587,712\n",
      "Trainable params: 0\n",
      "Non-trainable params: 23,587,712\n",
      "_________________________________________________________________\n"
     ]
    }
   ],
   "source": [
    "model = ResNet50(weights='imagenet', include_top=False, input_shape=(224,224,3))\n",
    "model.trainable = False\n",
    "\n",
    "model = tf.keras.models.Sequential([model,\n",
    "                                   GlobalMaxPool2D()\n",
    "                                   ])\n",
    "model.summary()"
   ]
  },
  {
   "cell_type": "code",
   "execution_count": 50,
   "id": "4dc6c885-1f9f-4a72-9637-312f1fd28be8",
   "metadata": {},
   "outputs": [],
   "source": [
    "#Extracting Fetaures from Image"
   ]
  },
  {
   "cell_type": "code",
   "execution_count": 9,
   "id": "d1f0a09d-d939-4157-bee7-78200d119733",
   "metadata": {},
   "outputs": [
    {
     "name": "stdout",
     "output_type": "stream",
     "text": [
      "1/1 [==============================] - 1s 1s/step\n"
     ]
    },
    {
     "data": {
      "text/plain": [
       "array([0.00491868, 0.05812981, 0.00543879, ..., 0.00351523, 0.05245367,\n",
       "       0.03639513], dtype=float32)"
      ]
     },
     "execution_count": 9,
     "metadata": {},
     "output_type": "execute_result"
    }
   ],
   "source": [
    "img = image.load_img('dataset/images/1163.jpg', target_size=(224,224))\n",
    "img_array = image.img_to_array(img)\n",
    "img_expand_dim = np.expand_dims(img_array, axis=0)\n",
    "img_preprocess = preprocess_input(img_expand_dim)\n",
    "result = model.predict(img_preprocess).flatten()\n",
    "norm_result = result/norm(result)\n",
    "norm_result"
   ]
  },
  {
   "cell_type": "code",
   "execution_count": 10,
   "id": "a4240bca-f785-47ae-8b61-0d7bfc87f7bd",
   "metadata": {},
   "outputs": [],
   "source": [
    "def extract_features_from_images(image_path, model):\n",
    "    img = image.load_img(image_path, target_size=(224,224))\n",
    "    img_array = image.img_to_array(img)\n",
    "    img_expand_dim = np.expand_dims(img_array, axis=0)\n",
    "    img_preprocess = preprocess_input(img_expand_dim)\n",
    "    result = model.predict(img_preprocess).flatten()\n",
    "    norm_result = result/norm(result)\n",
    "    return norm_result"
   ]
  },
  {
   "cell_type": "code",
   "execution_count": 11,
   "id": "77399749-0c8e-4fac-a376-7ef9367399dc",
   "metadata": {},
   "outputs": [
    {
     "name": "stdout",
     "output_type": "stream",
     "text": [
      "1/1 [==============================] - 0s 95ms/step\n"
     ]
    },
    {
     "data": {
      "text/plain": [
       "array([0.        , 0.01761615, 0.00171596, ..., 0.01247231, 0.02726383,\n",
       "       0.06899207], dtype=float32)"
      ]
     },
     "execution_count": 11,
     "metadata": {},
     "output_type": "execute_result"
    }
   ],
   "source": [
    "extract_features_from_images(filenames[0], model)"
   ]
  },
  {
   "cell_type": "code",
   "execution_count": 12,
   "id": "7845eb38-a86a-49f3-99d4-61245bcfdff1",
   "metadata": {},
   "outputs": [
    {
     "name": "stdout",
     "output_type": "stream",
     "text": [
      "1/1 [==============================] - 0s 78ms/step\n",
      "1/1 [==============================] - 0s 93ms/step\n",
      "1/1 [==============================] - 0s 98ms/step\n",
      "1/1 [==============================] - 0s 100ms/step\n",
      "1/1 [==============================] - 0s 111ms/step\n"
     ]
    },
    {
     "data": {
      "text/plain": [
       "[array([0.        , 0.01761615, 0.00171596, ..., 0.01247231, 0.02726383,\n",
       "        0.06899207], dtype=float32),\n",
       " array([0.        , 0.03648941, 0.        , ..., 0.00997929, 0.02375532,\n",
       "        0.04649908], dtype=float32),\n",
       " array([0.        , 0.03642138, 0.00710439, ..., 0.00140777, 0.        ,\n",
       "        0.05435045], dtype=float32),\n",
       " array([0.00232165, 0.05030544, 0.00747743, ..., 0.00346695, 0.03391021,\n",
       "        0.04565721], dtype=float32),\n",
       " array([0.00306837, 0.06240456, 0.        , ..., 0.00170629, 0.02032897,\n",
       "        0.05833261], dtype=float32)]"
      ]
     },
     "execution_count": 12,
     "metadata": {},
     "output_type": "execute_result"
    }
   ],
   "source": [
    "image_features = []\n",
    "for file in filenames[0:5]:\n",
    "    image_features.append(extract_features_from_images(file, model))\n",
    "image_features"
   ]
  },
  {
   "cell_type": "code",
   "execution_count": 13,
   "id": "243ca5d7-1086-48df-a9ab-8e271e4d2eef",
   "metadata": {},
   "outputs": [],
   "source": [
    "Image_features = pkl.dump(image_features, open('Images_features.pkl','wb'))"
   ]
  },
  {
   "cell_type": "code",
   "execution_count": 14,
   "id": "ab25bdd5-423d-4e2a-8b30-3ed52e5a6cb5",
   "metadata": {},
   "outputs": [],
   "source": [
    "filenames = pkl.dump(filenames, open('filenames.pkl','wb'))"
   ]
  },
  {
   "cell_type": "code",
   "execution_count": 23,
   "id": "09506759-ea0b-44b1-914b-e9b395972cda",
   "metadata": {},
   "outputs": [],
   "source": [
    "#Loading Pickle Files"
   ]
  },
  {
   "cell_type": "code",
   "execution_count": 15,
   "id": "e52f0652-9baa-48f4-a46a-0d19d78ede65",
   "metadata": {},
   "outputs": [],
   "source": [
    "Image_features = pkl.load(open('Images_features.pkl','rb'))"
   ]
  },
  {
   "cell_type": "code",
   "execution_count": 16,
   "id": "62671665-ec2d-4870-ac96-1120e1d71897",
   "metadata": {},
   "outputs": [],
   "source": [
    "filenames = pkl.load(open('filenames.pkl','rb'))"
   ]
  },
  {
   "cell_type": "code",
   "execution_count": 17,
   "id": "86e4713a-eab1-4089-94c6-b70ee7b7551a",
   "metadata": {},
   "outputs": [
    {
     "data": {
      "text/plain": [
       "(5, 2048)"
      ]
     },
     "execution_count": 17,
     "metadata": {},
     "output_type": "execute_result"
    }
   ],
   "source": [
    "np.array(Image_features).shape"
   ]
  },
  {
   "cell_type": "code",
   "execution_count": null,
   "id": "31046757",
   "metadata": {},
   "outputs": [],
   "source": []
  },
  {
   "cell_type": "code",
   "execution_count": null,
   "id": "2b0b70da",
   "metadata": {},
   "outputs": [],
   "source": []
  },
  {
   "cell_type": "code",
   "execution_count": null,
   "id": "1635ebff",
   "metadata": {},
   "outputs": [],
   "source": []
  },
  {
   "cell_type": "code",
   "execution_count": null,
   "id": "32d493c3",
   "metadata": {},
   "outputs": [],
   "source": []
  },
  {
   "cell_type": "code",
   "execution_count": null,
   "id": "69f69ab1",
   "metadata": {},
   "outputs": [],
   "source": []
  },
  {
   "cell_type": "code",
   "execution_count": null,
   "id": "4e768bcc",
   "metadata": {},
   "outputs": [],
   "source": []
  },
  {
   "cell_type": "code",
   "execution_count": null,
   "id": "88029191",
   "metadata": {},
   "outputs": [],
   "source": []
  },
  {
   "cell_type": "code",
   "execution_count": null,
   "id": "e34f2e67",
   "metadata": {},
   "outputs": [],
   "source": []
  },
  {
   "cell_type": "code",
   "execution_count": null,
   "id": "99002c28",
   "metadata": {},
   "outputs": [],
   "source": []
  },
  {
   "cell_type": "code",
   "execution_count": null,
   "id": "a36b65bc",
   "metadata": {},
   "outputs": [],
   "source": []
  },
  {
   "cell_type": "code",
   "execution_count": null,
   "id": "2d942711",
   "metadata": {},
   "outputs": [],
   "source": []
  }
 ],
 "metadata": {
  "kernelspec": {
   "display_name": "Python 3 (ipykernel)",
   "language": "python",
   "name": "python3"
  },
  "language_info": {
   "codemirror_mode": {
    "name": "ipython",
    "version": 3
   },
   "file_extension": ".py",
   "mimetype": "text/x-python",
   "name": "python",
   "nbconvert_exporter": "python",
   "pygments_lexer": "ipython3",
   "version": "3.9.7"
  }
 },
 "nbformat": 4,
 "nbformat_minor": 5
}
